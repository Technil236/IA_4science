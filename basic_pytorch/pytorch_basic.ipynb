{
  "nbformat": 4,
  "nbformat_minor": 0,
  "metadata": {
    "colab": {
      "provenance": [],
      "gpuType": "T4"
    },
    "kernelspec": {
      "name": "python3",
      "display_name": "Python 3"
    },
    "language_info": {
      "name": "python"
    },
    "accelerator": "GPU"
  },
  "cells": [
    {
      "cell_type": "markdown",
      "source": [
        "# Pytorch practice Nil"
      ],
      "metadata": {
        "id": "evUbpTgpUbcg"
      }
    },
    {
      "cell_type": "markdown",
      "source": [
        "#tout commenca avec les tensurs"
      ],
      "metadata": {
        "id": "licxbIkOUj10"
      }
    },
    {
      "cell_type": "code",
      "execution_count": 1,
      "metadata": {
        "colab": {
          "base_uri": "https://localhost:8080/",
          "height": 35
        },
        "id": "P8OO1zi2VKEw",
        "outputId": "d5d51efe-c40d-4b49-a749-7ff5cdaee1f6"
      },
      "outputs": [
        {
          "output_type": "execute_result",
          "data": {
            "text/plain": [
              "'2.1.0+cu121'"
            ],
            "application/vnd.google.colaboratory.intrinsic+json": {
              "type": "string"
            }
          },
          "metadata": {},
          "execution_count": 1
        }
      ],
      "source": [
        "import torch\n",
        "torch.__version__"
      ]
    },
    {
      "cell_type": "code",
      "source": [
        "scalar = torch.tensor(7)\n",
        "scalar"
      ],
      "metadata": {
        "colab": {
          "base_uri": "https://localhost:8080/"
        },
        "id": "2ZSYwNLvVVSA",
        "outputId": "929456fa-7ac2-4e8b-a6e7-8549fa028ba8"
      },
      "execution_count": 2,
      "outputs": [
        {
          "output_type": "execute_result",
          "data": {
            "text/plain": [
              "tensor(7)"
            ]
          },
          "metadata": {},
          "execution_count": 2
        }
      ]
    },
    {
      "cell_type": "code",
      "source": [
        "scalar.ndim"
      ],
      "metadata": {
        "colab": {
          "base_uri": "https://localhost:8080/"
        },
        "id": "J8KECdt7WESv",
        "outputId": "1fdda981-c325-4109-d6a3-8588de254c7e"
      },
      "execution_count": 3,
      "outputs": [
        {
          "output_type": "execute_result",
          "data": {
            "text/plain": [
              "0"
            ]
          },
          "metadata": {},
          "execution_count": 3
        }
      ]
    },
    {
      "cell_type": "code",
      "source": [
        "scalar.item()"
      ],
      "metadata": {
        "colab": {
          "base_uri": "https://localhost:8080/"
        },
        "id": "6UfHT3ghWbCJ",
        "outputId": "1dc7dd9b-d1f3-4a94-c2e4-fc4ce0338c95"
      },
      "execution_count": 4,
      "outputs": [
        {
          "output_type": "execute_result",
          "data": {
            "text/plain": [
              "7"
            ]
          },
          "metadata": {},
          "execution_count": 4
        }
      ]
    },
    {
      "cell_type": "code",
      "source": [
        "vector = torch.tensor([4,8])\n",
        "vector"
      ],
      "metadata": {
        "colab": {
          "base_uri": "https://localhost:8080/"
        },
        "id": "eOYUNZYVWqKo",
        "outputId": "8aa6fc86-c648-4f94-f0e3-61a61f858233"
      },
      "execution_count": 5,
      "outputs": [
        {
          "output_type": "execute_result",
          "data": {
            "text/plain": [
              "tensor([4, 8])"
            ]
          },
          "metadata": {},
          "execution_count": 5
        }
      ]
    },
    {
      "cell_type": "code",
      "source": [
        "vector.ndim"
      ],
      "metadata": {
        "colab": {
          "base_uri": "https://localhost:8080/"
        },
        "id": "TRCjyWynW_k7",
        "outputId": "c40ab6ce-948a-4c4c-8911-89f33fe02aae"
      },
      "execution_count": 6,
      "outputs": [
        {
          "output_type": "execute_result",
          "data": {
            "text/plain": [
              "1"
            ]
          },
          "metadata": {},
          "execution_count": 6
        }
      ]
    },
    {
      "cell_type": "code",
      "source": [
        "vector.shape"
      ],
      "metadata": {
        "colab": {
          "base_uri": "https://localhost:8080/"
        },
        "id": "XleUnbp3XppK",
        "outputId": "26bb8a20-a2ef-4502-ff21-5b479119e6d6"
      },
      "execution_count": 7,
      "outputs": [
        {
          "output_type": "execute_result",
          "data": {
            "text/plain": [
              "torch.Size([2])"
            ]
          },
          "metadata": {},
          "execution_count": 7
        }
      ]
    },
    {
      "cell_type": "code",
      "source": [
        "matrix = torch.tensor ([[1,2,0],[3,1,5],[3,1,8]])\n",
        "matrix"
      ],
      "metadata": {
        "colab": {
          "base_uri": "https://localhost:8080/"
        },
        "id": "CGCDp7RhXtSP",
        "outputId": "d074512f-fde2-4d6f-809d-208fdb1093b8"
      },
      "execution_count": 8,
      "outputs": [
        {
          "output_type": "execute_result",
          "data": {
            "text/plain": [
              "tensor([[1, 2, 0],\n",
              "        [3, 1, 5],\n",
              "        [3, 1, 8]])"
            ]
          },
          "metadata": {},
          "execution_count": 8
        }
      ]
    },
    {
      "cell_type": "code",
      "source": [
        "matrix.ndim"
      ],
      "metadata": {
        "colab": {
          "base_uri": "https://localhost:8080/"
        },
        "id": "k-B9v82jYiAA",
        "outputId": "e0f95ab2-c63a-43fb-9410-5bc8cd7a60dc"
      },
      "execution_count": 9,
      "outputs": [
        {
          "output_type": "execute_result",
          "data": {
            "text/plain": [
              "2"
            ]
          },
          "metadata": {},
          "execution_count": 9
        }
      ]
    },
    {
      "cell_type": "code",
      "source": [
        "matrix.shape"
      ],
      "metadata": {
        "colab": {
          "base_uri": "https://localhost:8080/"
        },
        "id": "61UwPVB8Yr-5",
        "outputId": "02dcd52e-04c4-4943-9e5e-4b96a9469853"
      },
      "execution_count": 10,
      "outputs": [
        {
          "output_type": "execute_result",
          "data": {
            "text/plain": [
              "torch.Size([3, 3])"
            ]
          },
          "metadata": {},
          "execution_count": 10
        }
      ]
    },
    {
      "cell_type": "code",
      "source": [
        "Tensor = torch.tensor([[[1, 2, 0,4],\n",
        "                       [3, 1, 5, 4],\n",
        "                       [3, 1, 8, 4]]])"
      ],
      "metadata": {
        "id": "izilneHkYuSQ"
      },
      "execution_count": 11,
      "outputs": []
    },
    {
      "cell_type": "code",
      "source": [
        "Tensor.ndim"
      ],
      "metadata": {
        "colab": {
          "base_uri": "https://localhost:8080/"
        },
        "id": "cUnUdB3SaUug",
        "outputId": "b658ec18-ee92-487e-89c5-49924188605d"
      },
      "execution_count": 12,
      "outputs": [
        {
          "output_type": "execute_result",
          "data": {
            "text/plain": [
              "3"
            ]
          },
          "metadata": {},
          "execution_count": 12
        }
      ]
    },
    {
      "cell_type": "code",
      "source": [
        "Tensor.shape"
      ],
      "metadata": {
        "colab": {
          "base_uri": "https://localhost:8080/"
        },
        "id": "RtjUw6xoaWHx",
        "outputId": "ebe83e69-1a68-4697-8421-ea22e36e08dc"
      },
      "execution_count": 13,
      "outputs": [
        {
          "output_type": "execute_result",
          "data": {
            "text/plain": [
              "torch.Size([1, 3, 4])"
            ]
          },
          "metadata": {},
          "execution_count": 13
        }
      ]
    },
    {
      "cell_type": "code",
      "source": [
        "ranndom_tensor = torch.rand(size = (3,4))\n",
        "ranndom_tensor,ranndom_tensor.dtype"
      ],
      "metadata": {
        "colab": {
          "base_uri": "https://localhost:8080/"
        },
        "id": "-Unshbbmadxa",
        "outputId": "babdadff-38ef-414a-a997-31c09a982c1c"
      },
      "execution_count": 14,
      "outputs": [
        {
          "output_type": "execute_result",
          "data": {
            "text/plain": [
              "(tensor([[0.8585, 0.6736, 0.0093, 0.8149],\n",
              "         [0.7392, 0.8490, 0.7164, 0.6999],\n",
              "         [0.4516, 0.1487, 0.4243, 0.7015]]),\n",
              " torch.float32)"
            ]
          },
          "metadata": {},
          "execution_count": 14
        }
      ]
    },
    {
      "cell_type": "code",
      "source": [
        "zeros = torch.zeros(size = (3,3))\n",
        "zeros ,zeros.dtype"
      ],
      "metadata": {
        "colab": {
          "base_uri": "https://localhost:8080/"
        },
        "id": "uneCVz_Sb1kT",
        "outputId": "86ac4c92-6aaf-4170-b4a0-0ec071aa4b5a"
      },
      "execution_count": 15,
      "outputs": [
        {
          "output_type": "execute_result",
          "data": {
            "text/plain": [
              "(tensor([[0., 0., 0.],\n",
              "         [0., 0., 0.],\n",
              "         [0., 0., 0.]]),\n",
              " torch.float32)"
            ]
          },
          "metadata": {},
          "execution_count": 15
        }
      ]
    },
    {
      "cell_type": "code",
      "source": [
        "ones= torch.ones(size = (4,4))\n",
        "ones,ones.dtype\n"
      ],
      "metadata": {
        "colab": {
          "base_uri": "https://localhost:8080/"
        },
        "id": "-DOgj-b-f1AN",
        "outputId": "7701e962-76d6-4400-d759-c02299f3e23b"
      },
      "execution_count": 16,
      "outputs": [
        {
          "output_type": "execute_result",
          "data": {
            "text/plain": [
              "(tensor([[1., 1., 1., 1.],\n",
              "         [1., 1., 1., 1.],\n",
              "         [1., 1., 1., 1.],\n",
              "         [1., 1., 1., 1.]]),\n",
              " torch.float32)"
            ]
          },
          "metadata": {},
          "execution_count": 16
        }
      ]
    },
    {
      "cell_type": "code",
      "source": [
        "arrange = torch.arange (0, 10 , 2)\n",
        "arrange,arrange.ndim"
      ],
      "metadata": {
        "colab": {
          "base_uri": "https://localhost:8080/"
        },
        "id": "BqOoqCXXf7FN",
        "outputId": "bd68d0a1-ad63-47d4-e8e4-15d2d35cee4c"
      },
      "execution_count": 17,
      "outputs": [
        {
          "output_type": "execute_result",
          "data": {
            "text/plain": [
              "(tensor([0, 2, 4, 6, 8]), 1)"
            ]
          },
          "metadata": {},
          "execution_count": 17
        }
      ]
    },
    {
      "cell_type": "code",
      "source": [
        "zero_to_ten_deprecated = torch.range(0, 10)\n",
        "zero_to_ten_deprecated, zero_to_ten_deprecated.dtype"
      ],
      "metadata": {
        "colab": {
          "base_uri": "https://localhost:8080/"
        },
        "id": "LCpJxqpTgLwt",
        "outputId": "ad5fe49e-79d5-4e0c-ff50-f9c354d773f4"
      },
      "execution_count": 18,
      "outputs": [
        {
          "output_type": "stream",
          "name": "stderr",
          "text": [
            "<ipython-input-18-e05bf9d1a5ba>:1: UserWarning: torch.range is deprecated and will be removed in a future release because its behavior is inconsistent with Python's range builtin. Instead, use torch.arange, which produces values in [start, end).\n",
            "  zero_to_ten_deprecated = torch.range(0, 10)\n"
          ]
        },
        {
          "output_type": "execute_result",
          "data": {
            "text/plain": [
              "(tensor([ 0.,  1.,  2.,  3.,  4.,  5.,  6.,  7.,  8.,  9., 10.]),\n",
              " torch.float32)"
            ]
          },
          "metadata": {},
          "execution_count": 18
        }
      ]
    },
    {
      "cell_type": "code",
      "source": [
        "start=0\n",
        "end= 10\n",
        "step= 1\n",
        "zero_to_ten = torch.arange(start , end , step)\n",
        "zero_to_ten"
      ],
      "metadata": {
        "id": "OJnOasbWguj3",
        "colab": {
          "base_uri": "https://localhost:8080/"
        },
        "outputId": "578870dd-3237-4be5-a471-98ca4c11787b"
      },
      "execution_count": 19,
      "outputs": [
        {
          "output_type": "execute_result",
          "data": {
            "text/plain": [
              "tensor([0, 1, 2, 3, 4, 5, 6, 7, 8, 9])"
            ]
          },
          "metadata": {},
          "execution_count": 19
        }
      ]
    },
    {
      "cell_type": "code",
      "source": [
        "float_32_tensor = torch.tensor([[3.0 , 2.0],[3.0 , 2.0],[3.0 , 2.0]],\n",
        "                               dtype= None,\n",
        "                               device= None,\n",
        "                               requires_grad=False)\n",
        "\n",
        "float_32_tensor, float_32_tensor.shape ,float_32_tensor.ndim, float_32_tensor.device"
      ],
      "metadata": {
        "colab": {
          "base_uri": "https://localhost:8080/"
        },
        "id": "sYaK-0I9NiCi",
        "outputId": "d8af73ca-44ec-4989-d85c-9554554f3bf9"
      },
      "execution_count": 20,
      "outputs": [
        {
          "output_type": "execute_result",
          "data": {
            "text/plain": [
              "(tensor([[3., 2.],\n",
              "         [3., 2.],\n",
              "         [3., 2.]]),\n",
              " torch.Size([3, 2]),\n",
              " 2,\n",
              " device(type='cpu'))"
            ]
          },
          "metadata": {},
          "execution_count": 20
        }
      ]
    },
    {
      "cell_type": "markdown",
      "source": [
        "#Operation sur les tenseur"
      ],
      "metadata": {
        "id": "wqBcUVHmRMD6"
      }
    },
    {
      "cell_type": "markdown",
      "source": [
        "##Addition"
      ],
      "metadata": {
        "id": "0UdxZ2JQRRoK"
      }
    },
    {
      "cell_type": "code",
      "source": [
        "tensor_add = torch.rand (4,4)\n",
        "tensor_add + 10"
      ],
      "metadata": {
        "colab": {
          "base_uri": "https://localhost:8080/"
        },
        "id": "uqSWfEwTPRew",
        "outputId": "1ee33957-f1e5-409c-fb94-f479d5e760ea"
      },
      "execution_count": 21,
      "outputs": [
        {
          "output_type": "execute_result",
          "data": {
            "text/plain": [
              "tensor([[10.2020, 10.2709, 10.0783, 10.8567],\n",
              "        [10.6591, 10.0290, 10.4231, 10.7525],\n",
              "        [10.0760, 10.9587, 10.2219, 10.5053],\n",
              "        [10.9962, 10.8168, 10.6779, 10.9770]])"
            ]
          },
          "metadata": {},
          "execution_count": 21
        }
      ]
    },
    {
      "cell_type": "code",
      "source": [
        "tensor_add =tensor_add +10\n",
        "tensor_add"
      ],
      "metadata": {
        "colab": {
          "base_uri": "https://localhost:8080/"
        },
        "id": "vvAvpoZ9RlpI",
        "outputId": "56f01663-a1d0-4525-a3da-b91e39411f13"
      },
      "execution_count": 22,
      "outputs": [
        {
          "output_type": "execute_result",
          "data": {
            "text/plain": [
              "tensor([[10.2020, 10.2709, 10.0783, 10.8567],\n",
              "        [10.6591, 10.0290, 10.4231, 10.7525],\n",
              "        [10.0760, 10.9587, 10.2219, 10.5053],\n",
              "        [10.9962, 10.8168, 10.6779, 10.9770]])"
            ]
          },
          "metadata": {},
          "execution_count": 22
        }
      ]
    },
    {
      "cell_type": "code",
      "source": [
        "tensor_add -10"
      ],
      "metadata": {
        "colab": {
          "base_uri": "https://localhost:8080/"
        },
        "id": "R1gdvDZGR3Ob",
        "outputId": "172b1617-c44e-4c77-b682-3bff9b50f9bc"
      },
      "execution_count": 23,
      "outputs": [
        {
          "output_type": "execute_result",
          "data": {
            "text/plain": [
              "tensor([[0.2020, 0.2709, 0.0783, 0.8567],\n",
              "        [0.6591, 0.0290, 0.4231, 0.7525],\n",
              "        [0.0760, 0.9587, 0.2219, 0.5053],\n",
              "        [0.9962, 0.8168, 0.6779, 0.9770]])"
            ]
          },
          "metadata": {},
          "execution_count": 23
        }
      ]
    },
    {
      "cell_type": "code",
      "source": [
        "tensor_add * 10"
      ],
      "metadata": {
        "colab": {
          "base_uri": "https://localhost:8080/"
        },
        "id": "WHL_at6HSUTK",
        "outputId": "aaf818ab-35ad-465b-98d6-dee40bec6727"
      },
      "execution_count": 24,
      "outputs": [
        {
          "output_type": "execute_result",
          "data": {
            "text/plain": [
              "tensor([[102.0198, 102.7090, 100.7828, 108.5668],\n",
              "        [106.5911, 100.2903, 104.2311, 107.5249],\n",
              "        [100.7603, 109.5867, 102.2192, 105.0528],\n",
              "        [109.9624, 108.1678, 106.7790, 109.7700]])"
            ]
          },
          "metadata": {},
          "execution_count": 24
        }
      ]
    },
    {
      "cell_type": "code",
      "source": [
        "tor= torch.add(tensor_add,(-10))\n",
        "tor"
      ],
      "metadata": {
        "colab": {
          "base_uri": "https://localhost:8080/"
        },
        "id": "8JohhaMGSZ8g",
        "outputId": "7caadc72-e0f0-4835-924a-eaa79a6e78ce"
      },
      "execution_count": 25,
      "outputs": [
        {
          "output_type": "execute_result",
          "data": {
            "text/plain": [
              "tensor([[0.2020, 0.2709, 0.0783, 0.8567],\n",
              "        [0.6591, 0.0290, 0.4231, 0.7525],\n",
              "        [0.0760, 0.9587, 0.2219, 0.5053],\n",
              "        [0.9962, 0.8168, 0.6779, 0.9770]])"
            ]
          },
          "metadata": {},
          "execution_count": 25
        }
      ]
    },
    {
      "cell_type": "code",
      "source": [
        "tor @ tor"
      ],
      "metadata": {
        "colab": {
          "base_uri": "https://localhost:8080/"
        },
        "id": "FSwqsXiWS1o7",
        "outputId": "a0cf23ea-5904-4899-cf6b-9de2263963a8"
      },
      "execution_count": 26,
      "outputs": [
        {
          "output_type": "execute_result",
          "data": {
            "text/plain": [
              "tensor([[1.0788, 0.8373, 0.7285, 1.2534],\n",
              "        [0.9341, 1.1996, 0.6679, 1.5355],\n",
              "        [1.1675, 0.6739, 0.8034, 1.3923],\n",
              "        [1.7644, 1.7415, 1.2363, 2.7651]])"
            ]
          },
          "metadata": {},
          "execution_count": 26
        }
      ]
    },
    {
      "cell_type": "code",
      "source": [
        "tor @ tor"
      ],
      "metadata": {
        "colab": {
          "base_uri": "https://localhost:8080/"
        },
        "id": "Qg_jwTrgTBWS",
        "outputId": "9b9e412a-a12f-4ab2-e57c-874976add801"
      },
      "execution_count": 27,
      "outputs": [
        {
          "output_type": "execute_result",
          "data": {
            "text/plain": [
              "tensor([[1.0788, 0.8373, 0.7285, 1.2534],\n",
              "        [0.9341, 1.1996, 0.6679, 1.5355],\n",
              "        [1.1675, 0.6739, 0.8034, 1.3923],\n",
              "        [1.7644, 1.7415, 1.2363, 2.7651]])"
            ]
          },
          "metadata": {},
          "execution_count": 27
        }
      ]
    },
    {
      "cell_type": "markdown",
      "source": [
        "#Matrix multiplication\n",
        "\n",
        "##c'est tout ce dont on a besoin"
      ],
      "metadata": {
        "id": "zMQH86CbUuK-"
      }
    },
    {
      "cell_type": "code",
      "source": [
        "Matrice1 = torch.rand(3,2)"
      ],
      "metadata": {
        "id": "7u6gjZ41UBxU"
      },
      "execution_count": 28,
      "outputs": []
    },
    {
      "cell_type": "code",
      "source": [
        "Matrice1"
      ],
      "metadata": {
        "colab": {
          "base_uri": "https://localhost:8080/"
        },
        "id": "QgCEuE5edrGi",
        "outputId": "ae05213c-0380-4e3f-868f-7d2e990cf9a0"
      },
      "execution_count": 29,
      "outputs": [
        {
          "output_type": "execute_result",
          "data": {
            "text/plain": [
              "tensor([[0.1968, 0.6194],\n",
              "        [0.9009, 0.5626],\n",
              "        [0.0149, 0.0359]])"
            ]
          },
          "metadata": {},
          "execution_count": 29
        }
      ]
    },
    {
      "cell_type": "code",
      "source": [
        "Matrice2 = torch.rand(2,3)\n",
        "Matrice2"
      ],
      "metadata": {
        "colab": {
          "base_uri": "https://localhost:8080/"
        },
        "id": "kHb9o7gJdscz",
        "outputId": "825a5b2b-9873-4aba-a6bb-724e0e896635"
      },
      "execution_count": 30,
      "outputs": [
        {
          "output_type": "execute_result",
          "data": {
            "text/plain": [
              "tensor([[0.3810, 0.4095, 0.8172],\n",
              "        [0.0203, 0.5850, 0.9734]])"
            ]
          },
          "metadata": {},
          "execution_count": 30
        }
      ]
    },
    {
      "cell_type": "code",
      "source": [
        "Matrice1 @ Matrice2"
      ],
      "metadata": {
        "colab": {
          "base_uri": "https://localhost:8080/"
        },
        "id": "kU33WxLKdw9H",
        "outputId": "c4bf74c2-edfe-4466-ebd2-4e9681ce5bfa"
      },
      "execution_count": 31,
      "outputs": [
        {
          "output_type": "execute_result",
          "data": {
            "text/plain": [
              "tensor([[0.0876, 0.4430, 0.7637],\n",
              "        [0.3547, 0.6981, 1.2839],\n",
              "        [0.0064, 0.0271, 0.0471]])"
            ]
          },
          "metadata": {},
          "execution_count": 31
        }
      ]
    },
    {
      "cell_type": "code",
      "source": [
        "torch.matmul(Matrice1,Matrice2)"
      ],
      "metadata": {
        "colab": {
          "base_uri": "https://localhost:8080/"
        },
        "id": "NCAKU8xXd6-q",
        "outputId": "fe72082b-629c-44fe-d260-cd46f667239f"
      },
      "execution_count": 32,
      "outputs": [
        {
          "output_type": "execute_result",
          "data": {
            "text/plain": [
              "tensor([[0.0876, 0.4430, 0.7637],\n",
              "        [0.3547, 0.6981, 1.2839],\n",
              "        [0.0064, 0.0271, 0.0471]])"
            ]
          },
          "metadata": {},
          "execution_count": 32
        }
      ]
    },
    {
      "cell_type": "code",
      "source": [
        "%%time\n",
        "# Matrix multiplication by hand\n",
        "# (avoid doing operations with for loops at all cost, they are computationally expensive)\n",
        "value = 0\n",
        "for i in range(len(Matrice1)):\n",
        "  value += Matrice1[i] * Matrice1[i]\n",
        "value\n"
      ],
      "metadata": {
        "colab": {
          "base_uri": "https://localhost:8080/"
        },
        "id": "BJKavR_Tf38h",
        "outputId": "ac876343-58a6-437d-b1c6-95f870d811db"
      },
      "execution_count": 33,
      "outputs": [
        {
          "output_type": "stream",
          "name": "stdout",
          "text": [
            "CPU times: user 1.26 ms, sys: 0 ns, total: 1.26 ms\n",
            "Wall time: 2.99 ms\n"
          ]
        },
        {
          "output_type": "execute_result",
          "data": {
            "text/plain": [
              "tensor([0.8506, 0.7014])"
            ]
          },
          "metadata": {},
          "execution_count": 33
        }
      ]
    },
    {
      "cell_type": "code",
      "source": [
        "%%time\n",
        "\n",
        "torch.matmul(Matrice1,Matrice2)"
      ],
      "metadata": {
        "colab": {
          "base_uri": "https://localhost:8080/"
        },
        "id": "EQmJ5uDFgGjc",
        "outputId": "a580ad87-0cd6-4f9c-d3ee-4e116f20948c"
      },
      "execution_count": 34,
      "outputs": [
        {
          "output_type": "stream",
          "name": "stdout",
          "text": [
            "CPU times: user 61 µs, sys: 12 µs, total: 73 µs\n",
            "Wall time: 77 µs\n"
          ]
        },
        {
          "output_type": "execute_result",
          "data": {
            "text/plain": [
              "tensor([[0.0876, 0.4430, 0.7637],\n",
              "        [0.3547, 0.6981, 1.2839],\n",
              "        [0.0064, 0.0271, 0.0471]])"
            ]
          },
          "metadata": {},
          "execution_count": 34
        }
      ]
    },
    {
      "cell_type": "code",
      "source": [
        "tensor_A = torch.tensor ( [[1,2],[3,4],[5,6]],dtype=torch.float32)\n",
        "tensor_B = torch.tensor ( [[7,8],[9,10],[11,12]],dtype=torch.float32)\n",
        "torch.matmul(tensor_A,tensor_B.T)"
      ],
      "metadata": {
        "id": "9xahqDIFgXyF",
        "colab": {
          "base_uri": "https://localhost:8080/"
        },
        "outputId": "33642482-f4f5-4abd-a8d1-bd747bc235c6"
      },
      "execution_count": 35,
      "outputs": [
        {
          "output_type": "execute_result",
          "data": {
            "text/plain": [
              "tensor([[ 23.,  29.,  35.],\n",
              "        [ 53.,  67.,  81.],\n",
              "        [ 83., 105., 127.]])"
            ]
          },
          "metadata": {},
          "execution_count": 35
        }
      ]
    },
    {
      "cell_type": "code",
      "source": [
        "print (tensor_A)\n",
        "print (tensor_B)\n",
        "print (tensor_B.T)"
      ],
      "metadata": {
        "colab": {
          "base_uri": "https://localhost:8080/"
        },
        "id": "a5qJXvjAZmEB",
        "outputId": "1cb5525f-181d-470d-f1f1-16d970fb688b"
      },
      "execution_count": 36,
      "outputs": [
        {
          "output_type": "stream",
          "name": "stdout",
          "text": [
            "tensor([[1., 2.],\n",
            "        [3., 4.],\n",
            "        [5., 6.]])\n",
            "tensor([[ 7.,  8.],\n",
            "        [ 9., 10.],\n",
            "        [11., 12.]])\n",
            "tensor([[ 7.,  9., 11.],\n",
            "        [ 8., 10., 12.]])\n"
          ]
        }
      ]
    },
    {
      "cell_type": "code",
      "source": [
        "torch.matmul(tensor_A,tensor_B.T)"
      ],
      "metadata": {
        "colab": {
          "base_uri": "https://localhost:8080/"
        },
        "id": "0I_G-Gx_aC8D",
        "outputId": "f2cfadf9-98d4-4def-abfc-d268ed54992f"
      },
      "execution_count": 37,
      "outputs": [
        {
          "output_type": "execute_result",
          "data": {
            "text/plain": [
              "tensor([[ 23.,  29.,  35.],\n",
              "        [ 53.,  67.,  81.],\n",
              "        [ 83., 105., 127.]])"
            ]
          },
          "metadata": {},
          "execution_count": 37
        }
      ]
    },
    {
      "cell_type": "code",
      "source": [
        "torch.mm(tensor_A,tensor_B.T)"
      ],
      "metadata": {
        "colab": {
          "base_uri": "https://localhost:8080/"
        },
        "id": "RS2m-CA_aUKm",
        "outputId": "4aed0f56-3317-4fd3-b985-2decd72d691b"
      },
      "execution_count": 38,
      "outputs": [
        {
          "output_type": "execute_result",
          "data": {
            "text/plain": [
              "tensor([[ 23.,  29.,  35.],\n",
              "        [ 53.,  67.,  81.],\n",
              "        [ 83., 105., 127.]])"
            ]
          },
          "metadata": {},
          "execution_count": 38
        }
      ]
    },
    {
      "cell_type": "code",
      "source": [
        "torch.manual_seed(42)\n",
        "linear = torch.nn.Linear(in_features=3, out_features = 6)\n",
        "x= tensor_A\n",
        "output = linear(x.T)\n",
        "x,x.shape,output,output.shape"
      ],
      "metadata": {
        "colab": {
          "base_uri": "https://localhost:8080/"
        },
        "id": "tRlujpH9al0I",
        "outputId": "fa95873d-336a-480f-b214-252d5f4678c5"
      },
      "execution_count": 39,
      "outputs": [
        {
          "output_type": "execute_result",
          "data": {
            "text/plain": [
              "(tensor([[1., 2.],\n",
              "         [3., 4.],\n",
              "         [5., 6.]]),\n",
              " torch.Size([3, 2]),\n",
              " tensor([[0.9332, 0.8805, 3.0149, 1.5545, 1.8186, 2.0634],\n",
              "         [1.7186, 1.4009, 3.5818, 1.7408, 2.6017, 2.5123]],\n",
              "        grad_fn=<AddmmBackward0>),\n",
              " torch.Size([2, 6]))"
            ]
          },
          "metadata": {},
          "execution_count": 39
        }
      ]
    },
    {
      "cell_type": "markdown",
      "source": [
        "#Finding min, max,mean,sum etc..."
      ],
      "metadata": {
        "id": "7nxCn2PXmUxE"
      }
    },
    {
      "cell_type": "code",
      "source": [
        "\n",
        "\n",
        "# Check for GPU\n",
        "import torch\n",
        "torch.cuda.is_available()\n",
        "\n"
      ],
      "metadata": {
        "id": "tWKgogLPnOBh",
        "colab": {
          "base_uri": "https://localhost:8080/"
        },
        "outputId": "09a2ef07-0b61-41d4-af69-ee88139deb1b"
      },
      "execution_count": 40,
      "outputs": [
        {
          "output_type": "execute_result",
          "data": {
            "text/plain": [
              "True"
            ]
          },
          "metadata": {},
          "execution_count": 40
        }
      ]
    },
    {
      "cell_type": "code",
      "source": [
        "# Set device type\n",
        "device = \"cuda\" if torch.cuda.is_available() else \"cpu\"\n",
        "device"
      ],
      "metadata": {
        "colab": {
          "base_uri": "https://localhost:8080/",
          "height": 35
        },
        "id": "JnUviU7e2kU9",
        "outputId": "b545e25b-49e7-4231-e5b8-40355a03cf01"
      },
      "execution_count": 41,
      "outputs": [
        {
          "output_type": "execute_result",
          "data": {
            "text/plain": [
              "'cuda'"
            ],
            "application/vnd.google.colaboratory.intrinsic+json": {
              "type": "string"
            }
          },
          "metadata": {},
          "execution_count": 41
        }
      ]
    },
    {
      "cell_type": "code",
      "source": [
        "torch.cuda.device_count()"
      ],
      "metadata": {
        "colab": {
          "base_uri": "https://localhost:8080/"
        },
        "id": "y0ANImj82nJ0",
        "outputId": "b8fae219-fc1f-4483-81d8-3512d45e4ebe"
      },
      "execution_count": 42,
      "outputs": [
        {
          "output_type": "execute_result",
          "data": {
            "text/plain": [
              "1"
            ]
          },
          "metadata": {},
          "execution_count": 42
        }
      ]
    },
    {
      "cell_type": "markdown",
      "source": [
        "#Resolution des exercices perso"
      ],
      "metadata": {
        "id": "IIdwVO7g67Y5"
      }
    },
    {
      "cell_type": "code",
      "source": [
        "import torch\n",
        "tenseur_random = torch.rand (7,7)\n",
        "tenseur_random"
      ],
      "metadata": {
        "colab": {
          "base_uri": "https://localhost:8080/"
        },
        "id": "6Scjnpkt2_WO",
        "outputId": "f4d5dc8c-4cd3-480c-d75c-c019b4b17864"
      },
      "execution_count": 43,
      "outputs": [
        {
          "output_type": "execute_result",
          "data": {
            "text/plain": [
              "tensor([[0.1053, 0.2695, 0.3588, 0.1994, 0.5472, 0.0062, 0.9516],\n",
              "        [0.0753, 0.8860, 0.5832, 0.3376, 0.8090, 0.5779, 0.9040],\n",
              "        [0.5547, 0.3423, 0.6343, 0.3644, 0.7104, 0.9464, 0.7890],\n",
              "        [0.2814, 0.7886, 0.5895, 0.7539, 0.1952, 0.0050, 0.3068],\n",
              "        [0.1165, 0.9103, 0.6440, 0.7071, 0.6581, 0.4913, 0.8913],\n",
              "        [0.1447, 0.5315, 0.1587, 0.6542, 0.3278, 0.6532, 0.3958],\n",
              "        [0.9147, 0.2036, 0.2018, 0.2018, 0.9497, 0.6666, 0.9811]])"
            ]
          },
          "metadata": {},
          "execution_count": 43
        }
      ]
    },
    {
      "cell_type": "code",
      "source": [
        "second_tenseur= torch.rand(1,7)\n",
        "second_tenseur"
      ],
      "metadata": {
        "colab": {
          "base_uri": "https://localhost:8080/"
        },
        "id": "9VlH8HgT7aN3",
        "outputId": "b8b1d362-1415-4a64-b09f-5be005f65924"
      },
      "execution_count": 44,
      "outputs": [
        {
          "output_type": "execute_result",
          "data": {
            "text/plain": [
              "tensor([[0.0874, 0.0041, 0.1088, 0.1637, 0.7025, 0.6790, 0.9155]])"
            ]
          },
          "metadata": {},
          "execution_count": 44
        }
      ]
    },
    {
      "cell_type": "code",
      "source": [
        "produit = tenseur_random @ second_tenseur.T\n",
        "produit"
      ],
      "metadata": {
        "colab": {
          "base_uri": "https://localhost:8080/"
        },
        "id": "QN9kdzed7nMh",
        "outputId": "e2fd4e7d-18cb-404d-b830-a5713c41c54d"
      },
      "execution_count": 45,
      "outputs": [
        {
          "output_type": "execute_result",
          "data": {
            "text/plain": [
              "tensor([[1.3417],\n",
              "        [1.9172],\n",
              "        [2.0426],\n",
              "        [0.6368],\n",
              "        [1.8116],\n",
              "        [1.1753],\n",
              "        [2.1538]])"
            ]
          },
          "metadata": {},
          "execution_count": 45
        }
      ]
    },
    {
      "cell_type": "code",
      "source": [
        "torch.manual_seed(0)"
      ],
      "metadata": {
        "colab": {
          "base_uri": "https://localhost:8080/"
        },
        "id": "a85_uXc_71bZ",
        "outputId": "60495da8-a822-4072-a007-625e40e961ac"
      },
      "execution_count": 46,
      "outputs": [
        {
          "output_type": "execute_result",
          "data": {
            "text/plain": [
              "<torch._C.Generator at 0x796645f4d470>"
            ]
          },
          "metadata": {},
          "execution_count": 46
        }
      ]
    },
    {
      "cell_type": "code",
      "source": [
        "tenseur_random_2 = torch.rand (7,7)\n",
        "tenseur_random_2"
      ],
      "metadata": {
        "colab": {
          "base_uri": "https://localhost:8080/"
        },
        "id": "howk5HJC8ykL",
        "outputId": "c56bd5d8-028b-4758-bc68-ce44cce640cd"
      },
      "execution_count": 47,
      "outputs": [
        {
          "output_type": "execute_result",
          "data": {
            "text/plain": [
              "tensor([[0.4963, 0.7682, 0.0885, 0.1320, 0.3074, 0.6341, 0.4901],\n",
              "        [0.8964, 0.4556, 0.6323, 0.3489, 0.4017, 0.0223, 0.1689],\n",
              "        [0.2939, 0.5185, 0.6977, 0.8000, 0.1610, 0.2823, 0.6816],\n",
              "        [0.9152, 0.3971, 0.8742, 0.4194, 0.5529, 0.9527, 0.0362],\n",
              "        [0.1852, 0.3734, 0.3051, 0.9320, 0.1759, 0.2698, 0.1507],\n",
              "        [0.0317, 0.2081, 0.9298, 0.7231, 0.7423, 0.5263, 0.2437],\n",
              "        [0.5846, 0.0332, 0.1387, 0.2422, 0.8155, 0.7932, 0.2783]])"
            ]
          },
          "metadata": {},
          "execution_count": 47
        }
      ]
    },
    {
      "cell_type": "code",
      "source": [
        "second_tenseur_2= torch.rand(1,7)\n",
        "second_tenseur_2"
      ],
      "metadata": {
        "colab": {
          "base_uri": "https://localhost:8080/"
        },
        "id": "Wf2ydJq08-TI",
        "outputId": "500d2740-841a-46c8-cd8d-e3473727e871"
      },
      "execution_count": 48,
      "outputs": [
        {
          "output_type": "execute_result",
          "data": {
            "text/plain": [
              "tensor([[0.4820, 0.8198, 0.9971, 0.6984, 0.5675, 0.8352, 0.2056]])"
            ]
          },
          "metadata": {},
          "execution_count": 48
        }
      ]
    },
    {
      "cell_type": "code",
      "source": [
        "produit_2 = tenseur_random_2 @ second_tenseur_2.T\n",
        "produit_2,produit_2.shape"
      ],
      "metadata": {
        "colab": {
          "base_uri": "https://localhost:8080/"
        },
        "id": "VDBIP7YL9BqK",
        "outputId": "1018fa98-f709-4bd6-b8e2-03da1ae15d72"
      },
      "execution_count": 49,
      "outputs": [
        {
          "output_type": "execute_result",
          "data": {
            "text/plain": [
              "(tensor([[1.8542],\n",
              "         [1.9611],\n",
              "         [2.2884],\n",
              "         [3.0481],\n",
              "         [1.7067],\n",
              "         [2.5290],\n",
              "         [1.7989]]),\n",
              " torch.Size([7, 1]))"
            ]
          },
          "metadata": {},
          "execution_count": 49
        }
      ]
    },
    {
      "cell_type": "code",
      "source": [
        "torch.manual_seed(1234)\n",
        "tensor_gpu1 = torch.rand(2,3).to(device)\n",
        "tensor_gpu2 = torch.rand(2,3).to(device)\n",
        "tensor_gpu1,tensor_gpu2"
      ],
      "metadata": {
        "colab": {
          "base_uri": "https://localhost:8080/"
        },
        "id": "FERxZEmh9NaJ",
        "outputId": "4c6dc5e3-58e5-4d25-de2c-364c33e9b4bf"
      },
      "execution_count": 50,
      "outputs": [
        {
          "output_type": "execute_result",
          "data": {
            "text/plain": [
              "(tensor([[0.0290, 0.4019, 0.2598],\n",
              "         [0.3666, 0.0583, 0.7006]], device='cuda:0'),\n",
              " tensor([[0.0518, 0.4681, 0.6738],\n",
              "         [0.3315, 0.7837, 0.5631]], device='cuda:0'))"
            ]
          },
          "metadata": {},
          "execution_count": 50
        }
      ]
    },
    {
      "cell_type": "code",
      "source": [
        "produit_gpu = tensor_gpu1 @ tensor_gpu2.T\n",
        "produit_gpu"
      ],
      "metadata": {
        "colab": {
          "base_uri": "https://localhost:8080/"
        },
        "id": "vvHisxTA-VEU",
        "outputId": "763cde2a-18b3-4037-844c-38b8aedd20ea"
      },
      "execution_count": 51,
      "outputs": [
        {
          "output_type": "execute_result",
          "data": {
            "text/plain": [
              "tensor([[0.3647, 0.4709],\n",
              "        [0.5184, 0.5617]], device='cuda:0')"
            ]
          },
          "metadata": {},
          "execution_count": 51
        }
      ]
    },
    {
      "cell_type": "code",
      "source": [
        "produit_gpu2 = torch.matmul(tensor_gpu1,tensor_gpu2.T)\n",
        "produit_gpu2"
      ],
      "metadata": {
        "colab": {
          "base_uri": "https://localhost:8080/"
        },
        "id": "ElgAZhuK-tn8",
        "outputId": "1fbe02f6-5023-4385-a873-8b157fdf159d"
      },
      "execution_count": 52,
      "outputs": [
        {
          "output_type": "execute_result",
          "data": {
            "text/plain": [
              "tensor([[0.3647, 0.4709],\n",
              "        [0.5184, 0.5617]], device='cuda:0')"
            ]
          },
          "metadata": {},
          "execution_count": 52
        }
      ]
    },
    {
      "cell_type": "code",
      "source": [
        "max= torch.max (tensor_gpu1)\n",
        "min = torch.min(tensor_gpu1)\n",
        "max,min"
      ],
      "metadata": {
        "colab": {
          "base_uri": "https://localhost:8080/"
        },
        "id": "1EAZ5lxg--7M",
        "outputId": "ca9e089e-dbf6-462e-bf97-cdf151c3e33b"
      },
      "execution_count": 53,
      "outputs": [
        {
          "output_type": "execute_result",
          "data": {
            "text/plain": [
              "(tensor(0.7006, device='cuda:0'), tensor(0.0290, device='cuda:0'))"
            ]
          },
          "metadata": {},
          "execution_count": 53
        }
      ]
    },
    {
      "cell_type": "code",
      "source": [
        "argmax= torch.argmax (tensor_gpu1)\n",
        "argmin = torch.argmin(tensor_gpu1)\n",
        "argmax,argmin"
      ],
      "metadata": {
        "colab": {
          "base_uri": "https://localhost:8080/"
        },
        "id": "KZ77SOQY_RfO",
        "outputId": "8182ff20-261d-43cf-ed73-8ba0138caaa9"
      },
      "execution_count": 54,
      "outputs": [
        {
          "output_type": "execute_result",
          "data": {
            "text/plain": [
              "(tensor(5, device='cuda:0'), tensor(0, device='cuda:0'))"
            ]
          },
          "metadata": {},
          "execution_count": 54
        }
      ]
    },
    {
      "cell_type": "code",
      "source": [
        "torch.manual_seed(7)\n",
        "tenseur_bizarre = torch.rand(1,1,1,10)\n",
        "torch.manual_seed(7)\n",
        "tenseur_bizarre1 = torch.rand(10)\n",
        "tenseur_bizarre , tenseur_bizarre1"
      ],
      "metadata": {
        "colab": {
          "base_uri": "https://localhost:8080/"
        },
        "id": "yf2yOB53_bhF",
        "outputId": "fa725182-b477-462d-a5f0-d32017cb140a"
      },
      "execution_count": 55,
      "outputs": [
        {
          "output_type": "execute_result",
          "data": {
            "text/plain": [
              "(tensor([[[[0.5349, 0.1988, 0.6592, 0.6569, 0.2328, 0.4251, 0.2071, 0.6297,\n",
              "            0.3653, 0.8513]]]]),\n",
              " tensor([0.5349, 0.1988, 0.6592, 0.6569, 0.2328, 0.4251, 0.2071, 0.6297, 0.3653,\n",
              "         0.8513]))"
            ]
          },
          "metadata": {},
          "execution_count": 55
        }
      ]
    },
    {
      "cell_type": "code",
      "source": [
        "import torch\n",
        "import torch.nn as nn\n",
        "import torch.optim as optim\n",
        "\n",
        "# Définition du modèle\n",
        "class SimpleModel(nn.Module):\n",
        "    def __init__(self):\n",
        "        super(SimpleModel, self).__init__()\n",
        "        self.linear = nn.Linear(in_features=1, out_features=1)\n",
        "\n",
        "    def forward(self, x):\n",
        "        return self.linear(x)\n",
        "\n",
        "# Création du modèle\n",
        "model = SimpleModel()\n",
        "\n",
        "# Définition de l'optimiseur et de la fonction de perte\n",
        "criterion = nn.MSELoss()  # Mean Squared Error Loss\n",
        "optimizer = optim.SGD(model.parameters(), lr=0.01)  # Descente de gradient stochastique\n",
        "\n",
        "# Données d'entraînement (exemples bidimensionnels avec une seule caractéristique)\n",
        "inputs = torch.tensor([[1.0], [2.0], [3.0], [4.0]], dtype=torch.float32)\n",
        "targets = torch.tensor([[2.0], [4.0], [6.0], [8.0]], dtype=torch.float32)\n",
        "\n",
        "# Boucle d'entraînement\n",
        "epochs = 2000\n",
        "for epoch in range(epochs):\n",
        "    # Étape de propagation avant (feedforward)\n",
        "    predictions = model(inputs)\n",
        "\n",
        "    # Calcul de la perte\n",
        "    loss = criterion(predictions, targets)\n",
        "\n",
        "    # Réinitialisation des gradients\n",
        "    optimizer.zero_grad()\n",
        "\n",
        "    # Étape de rétropropagation (backpropagation)\n",
        "    loss.backward()\n",
        "\n",
        "    # Mise à jour des paramètres\n",
        "    optimizer.step()\n",
        "\n",
        "    # Affichage de la perte à chaque centième itération\n",
        "    if (epoch + 1) % 100 == 0:\n",
        "        print(f'Epoch [{epoch + 1}/{epochs}], Loss: {loss.item():.4f}')\n",
        "\n",
        "# Évaluation du modèle après l'entraînement\n",
        "with torch.no_grad():\n",
        "    test_input = torch.tensor([[5.0]], dtype=torch.float32)\n",
        "    predicted_output = model(test_input)\n",
        "    print(f'Prediction for input 5.0: {predicted_output.item():.4f}')"
      ],
      "metadata": {
        "id": "Gb5EoHe9AHp2",
        "outputId": "3fff0820-99c7-4a65-ae24-99be327d441c",
        "colab": {
          "base_uri": "https://localhost:8080/"
        }
      },
      "execution_count": 58,
      "outputs": [
        {
          "output_type": "stream",
          "name": "stdout",
          "text": [
            "Epoch [100/2000], Loss: 0.0141\n",
            "Epoch [200/2000], Loss: 0.0077\n",
            "Epoch [300/2000], Loss: 0.0042\n",
            "Epoch [400/2000], Loss: 0.0023\n",
            "Epoch [500/2000], Loss: 0.0013\n",
            "Epoch [600/2000], Loss: 0.0007\n",
            "Epoch [700/2000], Loss: 0.0004\n",
            "Epoch [800/2000], Loss: 0.0002\n",
            "Epoch [900/2000], Loss: 0.0001\n",
            "Epoch [1000/2000], Loss: 0.0001\n",
            "Epoch [1100/2000], Loss: 0.0000\n",
            "Epoch [1200/2000], Loss: 0.0000\n",
            "Epoch [1300/2000], Loss: 0.0000\n",
            "Epoch [1400/2000], Loss: 0.0000\n",
            "Epoch [1500/2000], Loss: 0.0000\n",
            "Epoch [1600/2000], Loss: 0.0000\n",
            "Epoch [1700/2000], Loss: 0.0000\n",
            "Epoch [1800/2000], Loss: 0.0000\n",
            "Epoch [1900/2000], Loss: 0.0000\n",
            "Epoch [2000/2000], Loss: 0.0000\n",
            "Prediction for input 5.0: 9.9993\n"
          ]
        }
      ]
    },
    {
      "cell_type": "code",
      "source": [],
      "metadata": {
        "id": "9ZZi7EMsKYvt"
      },
      "execution_count": null,
      "outputs": []
    }
  ]
}