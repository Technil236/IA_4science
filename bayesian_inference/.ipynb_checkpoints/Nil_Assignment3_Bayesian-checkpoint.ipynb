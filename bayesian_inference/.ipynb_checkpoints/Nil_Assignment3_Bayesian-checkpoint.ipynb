{
 "cells": [
  {
   "cell_type": "code",
   "execution_count": null,
   "metadata": {
    "id": "d86MoLI60AHP"
   },
   "outputs": [],
   "source": [
    "import numpy as np\n",
    "import matplotlib.pyplot as plt\n",
    "from scipy.stats import norm\n",
    "\n",
    "# Define the true function and generate some data\n",
    "#np.random.seed(0)\n",
    "x_true = np.linspace(-1, 1, 100)\n",
    "y_true = np.sin(np.pi * x_true)\n",
    "x_data = np.random.uniform(-1, 1, size=100)\n",
    "y_data = np.sin(np.pi * x_data) + np.random.normal(scale=0.1, size=x_data.shape)\n",
    "\n",
    "# Define the basis functions\n",
    "def basis_functions(x, mean, sigma):\n",
    "    return np.exp(-0.5 * (x[:, None] - mean[None, :]) ** 2 / sigma ** 2)\n",
    "\n",
    "# Parameters for the basis functions and the precision of the prior\n",
    "mean = np.linspace(-1, 1, 100)\n",
    "sigma = 0.3\n",
    "alpha = 2.0\n",
    "\n",
    "# Compute the basis matrix and the prior covariance\n",
    "Phi = basis_functions(x_data, mean, sigma)\n",
    "prior_cov_inv = alpha * np.eye(mean.shape[0])\n",
    "\n",
    "# Create a figure with 2x2 subplots\n",
    "fig, axs = plt.subplots(2, 2, figsize=(15, 10))\n",
    "\n",
    "# List of number of data points to use for each plot\n",
    "n_points = [1, 2, 4, 100]\n",
    "\n",
    "for ax, n in zip(axs.ravel(), n_points):\n",
    "    # Select the first n data points\n",
    "    x_n = x_data[:n]\n",
    "    y_n = y_data[:n]\n",
    "\n",
    "    # Compute the posterior mean and covariance\n",
    "    posterior_covariance_inv = prior_cov_inv + Phi[:n].T @ Phi[:n]\n",
    "    posterior_covariance = np.linalg.inv(posterior_covariance_inv)\n",
    "    posterior_mean = posterior_covariance @ Phi[:n].T @ y_n\n",
    "\n",
    "    # Compute the predictive mean and standard deviation\n",
    "    Phi_pred = basis_functions(x_true, mean, sigma)\n",
    "    y_pred = Phi_pred @ posterior_mean\n",
    "    y_pred_std = np.sqrt(1 / alpha + np.sum(Phi_pred @ posterior_covariance * Phi_pred, axis=1))\n",
    "\n",
    "    # Plot the data, the true function, and the predictive distribution\n",
    "    ax.scatter(x_n, y_n, facecolors='none', edgecolors='b', label='Data')\n",
    "    ax.plot(x_true, y_true, 'g', label='True function')\n",
    "    ax.plot(x_true, y_pred, 'r', label='Predictive mean')\n",
    "    ax.fill_between(x_true, y_pred - y_pred_std, y_pred + y_pred_std, color='r', alpha=0.2, label='Prediction')\n",
    "    ax.legend()\n",
    "    ax.set_title(f'Number of data points: {n}')\n",
    "\n",
    "plt.show()\n",
    "\n",
    "\n"
   ]
  }
 ],
 "metadata": {
  "colab": {
   "provenance": []
  },
  "kernelspec": {
   "display_name": "Python 3 (ipykernel)",
   "language": "python",
   "name": "python3"
  },
  "language_info": {
   "codemirror_mode": {
    "name": "ipython",
    "version": 3
   },
   "file_extension": ".py",
   "mimetype": "text/x-python",
   "name": "python",
   "nbconvert_exporter": "python",
   "pygments_lexer": "ipython3",
   "version": "3.11.2"
  }
 },
 "nbformat": 4,
 "nbformat_minor": 1
}
